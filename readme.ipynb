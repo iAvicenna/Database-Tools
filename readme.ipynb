{
 "cells": [
  {
   "cell_type": "markdown",
   "metadata": {},
   "source": [
    "DatabaseTools is a package made of three modules: AntigenicDatabase, TiterTable, CityList designed to read and process the serum, antigen and result databases in acorg repository. In short:\n",
    "\n",
    "AntigenicDatabase is designed to read sera and antigens json datasets into AntigenDataset and SerumDataset files.\n",
    "They are constructed from the parent class Dataset. Dataset allows deep searches and aliased searches to find entries by impartial names, names with typos or properties such as passaged type. Search functionalities support regular expressions.\n",
    "\n",
    "TiterTable allows for loading results.json files from the database which also requires antigens.json and sera.json\n",
    "files as it performs consistency checks between the antigens and sera in the results.json and those that are stored as entries in antigens and sera json.\n",
    "\n",
    "CityList is a small module for keeping track of city names and abbreviations and also allow some aliased searching for city names."
   ]
  },
  {
   "cell_type": "code",
   "execution_count": 1,
   "metadata": {},
   "outputs": [
    {
     "name": "stdout",
     "output_type": "stream",
     "text": [
      "Entry with id ARTLF7 is\n",
      "[(ARTLF7, A/CHICKEN/INDIA/NIV33487/2006-RG-7)]\n",
      "\n",
      "Entry with name VIETNAM/2004 is\n",
      "[(14846I, A/VIETNAM/1194/2004-NIBRG-14)]\n",
      "\n",
      "Entries with passage SIAT are\n",
      "[(14846I, A/VIETNAM/1194/2004-NIBRG-14), (2U7GA8, A/HONG-KONG/213/2003), (NK4KU7, A/CAMBODIA/R0405050/2007-NIBRG-88), (CXSYDG, A/DUCK/HUNAN/795/2002), (SL0DT0, A/INDONESIA/05/2005-IBCDCRG-2), (I4Z8K3, A/INDONESIA/CDC357/2006), (ARTLF7, A/CHICKEN/INDIA/NIV33487/2006-RG-7), (9FJOVM, A/COMMON-MAGPIE/HONG-KONG/5052/2007), (7N90YJ, A/BHG/MONGOLIA/X53/2009), (7CJ09K, A/HUBEI/1/2010-IBCDCRG-30)]\n"
     ]
    }
   ],
   "source": [
    "import sys\n",
    "import os\n",
    "# this will be used for supressind some warning messages\n",
    "class HiddenPrints:\n",
    "    def __enter__(self):\n",
    "        self._original_stdout = sys.stdout\n",
    "        sys.stdout = open(os.devnull, 'w')\n",
    "\n",
    "    def __exit__(self, exc_type, exc_val, exc_tb):\n",
    "        sys.stdout.close()\n",
    "        sys.stdout = self._original_stdout\n",
    "        \n",
    "with HiddenPrints():\n",
    "    from AntigenicDatabase import AntigenDataset, SerumDataset\n",
    "    from TiterTable import TiterTable  \n",
    "\n",
    "#AntigenicDatabase\n",
    "#To load a dataset you open it as a json file and supply the json file:\n",
    "import json\n",
    "\n",
    "with open('./tests/test_datasets/test_antigens.json', 'r') as fileobj:\n",
    "            antigens_json = json.load(fileobj)\n",
    "        \n",
    "antigen_dataset = AntigenDataset(antigens_json)  \n",
    "\n",
    "#lets get the entry with ID\n",
    "entries_found = antigen_dataset.get_entry(\"ARTLF7\")\n",
    "#entry is a list of antigens with a representation (Id, Long)\n",
    "print('Entry with id ARTLF7 is')\n",
    "print(entries_found)\n",
    "print('')\n",
    "\n",
    "#lets find the antigen which is VIETNAM/2004\n",
    "#the long name is actually A/VIETNAM/1194/2004-NIBRG-14\n",
    "#but aliased search takes care of that\n",
    "entries_found = antigen_dataset.aliased_search(\"VIETNAM/2004\")\n",
    "print('Entry with name VIETNAM/2004 is')\n",
    "print(entries_found)\n",
    "print('')\n",
    "\n",
    "#lets find all antigens that have been passaged in SIAT\n",
    "entries_found = antigen_dataset.deep_search(\"SIAT\")\n",
    "print('Entries with passage SIAT are')\n",
    "print(entries_found)\n",
    "\n"
   ]
  },
  {
   "cell_type": "code",
   "execution_count": 7,
   "metadata": {},
   "outputs": [
    {
     "name": "stdout",
     "output_type": "stream",
     "text": [
      "There may be repeated measurements in this dataset (repeated serum strain ids).\n",
      "                                       Id A/ANHUI/1/2005\n",
      "Id                                    NaN         8VCWN7\n",
      "A/VIETNAM/1194/2004-NIBRG-14       14846I            <10\n",
      "A/HONG-KONG/213/2003               2U7GA8            <10\n",
      "A/CAMBODIA/R0405050/2007-NIBRG-88  NK4KU7            <10\n",
      "A/DUCK/HUNAN/795/2002              CXSYDG            <10\n",
      "\n",
      "        id       A       B       C       D\n",
      "id     NaN  8VCWN7  S8NG60  IJ4HOU  77POTS\n",
      "0   14846I     <10     <10     <10     <10\n",
      "1   2U7GA8     <10     <10     <10     <10\n",
      "2   NK4KU7     <10     <10     <10     <10\n",
      "3   CXSYDG     <10     <10     <10     <10\n"
     ]
    }
   ],
   "source": [
    "#Now lets load a titer table. For this we need to load results, antigens and sera\n",
    "#TiterTable accepts dictionaries so if the results file is a list, you have to input\n",
    "#the element of the list you want to analyse. The structure of results file can of the \n",
    "#format where it is a list of dictionaries each of which contain a results key that\n",
    "#again map to list of dictionaries. It is one if these dictionaries at the end that should be \n",
    "#loaded to the titer table.\n",
    "\n",
    "with open('./tests/test_datasets/test_antigens.json', 'r') as fileobj:    \n",
    "    antigens_json = json.load(fileobj)\n",
    "    \n",
    "with open('./tests/test_datasets/test_antisera.json', 'r') as fileobj:    \n",
    "    sera_json = json.load(fileobj)   \n",
    "    \n",
    "with open('./tests/test_datasets/test_results.json', 'r') as fileobj:    \n",
    "    titer_table_json = json.load(fileobj)   \n",
    "\n",
    "#if there are sera from the same strains it gives a warning indicating the table might\n",
    "#do with an averaging (not implemented yet). It also performs a host of other health checks\n",
    "#for all the datasets involved automatically. If the sera_json and antigens_json datasets\n",
    "#contain more antigens and sera than in the titer table, only the corresponding subsets\n",
    "#are taken into account. If any antigen or sera in the titer table does not occur\n",
    "#in sera_json or antigen_json, it will throw an error.\n",
    "\n",
    "titer_table = TiterTable(titer_table_json[0]['results'][0], sera_json, antigens_json)\n",
    "antigen_ids = titer_table.antigen_ids\n",
    "serum_ids = titer_table.serum_ids\n",
    "\n",
    "#one can get the titer table as a dataframe with some options using the\n",
    "#to_df function. extra_rows and columns can be added as dictionaries to this\n",
    "#table as follows. For instance we will add the antigen and serum ids below.\n",
    "#we will also leave thresholded titers as they are. Returned values\n",
    "#are the dataframe and the numerical raw data in the data frame.\n",
    "\n",
    "df, raw_data = titer_table.to_df(thresholded=True,             \n",
    "                       extra_rows={'Id':serum_ids},\n",
    "                       extra_columns={'Id':antigen_ids})\n",
    "\n",
    "\n",
    "print(df.iloc[0:5,0:2])\n",
    "print('')\n",
    "#This example was used to demonstrate how to put extra_rows and columns however\n",
    "#ids and serum_strain_ids can be automatically put by setting add_ids = True, \n",
    "#add_serum_strain_ids = True. Moreover actual serum and antigen names can also\n",
    "#specified with options antigen_names = list and serum_names = list as demonstrated\n",
    "#below:\n",
    "antigen_names = [str(x) for x in range(10)]\n",
    "serum_names = [str(x) for x in 'ABCDEFGHIJ']\n",
    "\n",
    "df, raw_data = titer_table.to_df(thresholded=True, antigen_names = antigen_names, \n",
    "                                 serum_names=serum_names, add_ids=True)\n",
    "\n",
    "print(df.iloc[0:5,0:5])\n"
   ]
  },
  {
   "cell_type": "code",
   "execution_count": null,
   "metadata": {},
   "outputs": [],
   "source": []
  }
 ],
 "metadata": {
  "kernelspec": {
   "display_name": "Python 3",
   "language": "python",
   "name": "python3"
  },
  "language_info": {
   "codemirror_mode": {
    "name": "ipython",
    "version": 3
   },
   "file_extension": ".py",
   "mimetype": "text/x-python",
   "name": "python",
   "nbconvert_exporter": "python",
   "pygments_lexer": "ipython3",
   "version": "3.7.6"
  }
 },
 "nbformat": 4,
 "nbformat_minor": 4
}
